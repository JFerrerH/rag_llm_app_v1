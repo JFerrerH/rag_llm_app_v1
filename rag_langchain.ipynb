{
 "cells": [
  {
   "cell_type": "code",
   "execution_count": 8,
   "metadata": {},
   "outputs": [
    {
     "data": {
      "text/plain": [
       "False"
      ]
     },
     "execution_count": 8,
     "metadata": {},
     "output_type": "execute_result"
    }
   ],
   "source": [
    "\n",
    "import os\n",
    "import dotenv\n",
    "from pathlib import Path\n",
    "\n",
    "from langchain_core.messages import AIMessage, HumanMessage\n",
    "from langchain_community.document_loaders.text import TextLoader\n",
    "from langchain_community.document_loaders import (\n",
    "    WebBaseLoader, \n",
    "    PyPDFLoader, \n",
    "    Docx2txtLoader,\n",
    ")\n",
    "from langchain_community.vectorstores import Chroma\n",
    "from langchain.text_splitter import RecursiveCharacterTextSplitter\n",
    "from langchain_openai import OpenAIEmbeddings, ChatOpenAI\n",
    "from langchain_anthropic import ChatAnthropic\n",
    "from langchain_core.prompts import ChatPromptTemplate, MessagesPlaceholder\n",
    "from langchain.chains import create_history_aware_retriever, create_retrieval_chain\n",
    "from langchain.chains.combine_documents import create_stuff_documents_chain\n",
    "\n",
    "dotenv.load_dotenv()"
   ]
  },
  {
   "cell_type": "code",
   "execution_count": 12,
   "metadata": {},
   "outputs": [],
   "source": [
    "doc_paths = [\n",
    "    r\"docs\\test_rag.docx\",\n",
    "    r\"docs\\test_rag.pdf\",\n",
    "]\n",
    "\n",
    "docs = [] \n",
    "\n",
    "for doc_file in doc_paths:\n",
    "    file_path = Path(doc_file)\n",
    "\n",
    "    try:\n",
    "        if doc_file.endswith(\".pdf\"):\n",
    "            loader = PyPDFLoader(file_path)\n",
    "        elif doc_file.endswith(\".docx\"):\n",
    "            loader = Docx2txtLoader(file_path)\n",
    "        elif doc_file.endswith(\".txt\") or doc_file.name.endswith(\".md\"):\n",
    "            loader = TextLoader(file_path)\n",
    "        else:\n",
    "            print(f\"Document type {doc_file.type} not supported.\")\n",
    "            continue\n",
    "\n",
    "        docs.extend(loader.load())\n",
    "\n",
    "    except Exception as e:\n",
    "        print(f\"Error loading document {doc_file.name}: {e}\")\n",
    "\n",
    "\n",
    "# Load URLs\n",
    "\n",
    "url = \"https://docs.streamlit.io/develop/quick-reference/release-notes\"\n",
    "try:\n",
    "    loader = WebBaseLoader(url)\n",
    "    docs.extend(loader.load())\n",
    "\n",
    "except Exception as e:\n",
    "    print(f\"Error loading document from {url}: {e}\")"
   ]
  },
  {
   "cell_type": "code",
   "execution_count": 13,
   "metadata": {},
   "outputs": [
    {
     "data": {
      "text/plain": [
       "[Document(metadata={'source': 'docs\\\\test_rag.docx'}, page_content='My favorite food is margarita pizza.\\n\\nThere are 47588 bottles in the truck.'),\n",
       " Document(metadata={'source': 'docs\\\\test_rag.pdf', 'page': 0}, page_content='My favorite food is margarita pizza. \\nThere are 47588 bottles in the truck. '),\n",
       " Document(metadata={'source': 'https://docs.streamlit.io/develop/quick-reference/release-notes', 'title': 'Release notes - Streamlit Docs', 'description': 'A changelog of highlights and fixes for each version of Streamlit.', 'language': 'No language found.'}, page_content='Release notes - Streamlit DocsDocumentationsearchSearchrocket_launchGet startedInstallationaddFundamentalsaddFirst stepsaddcodeDevelopConceptsaddAPI referenceaddTutorialsaddQuick referenceremoveCheat sheetRelease notesremove202420232022202120202019Pre-release featuresRoadmapopen_in_newweb_assetDeployConceptsaddStreamlit Community CloudaddSnowflakeOther platformsaddschoolKnowledge baseFAQInstalling dependenciesDeployment issuesHome/Develop/Quick reference/Release notesRelease notes\\nThis page lists highlights, bug fixes, and known issues for the latest release of Streamlit. If you\\'re looking for information about nightly releases or experimental features, see Pre-release features.\\nUpgrade Streamlit\\nstarTipTo upgrade to the latest version of Streamlit, run:pip install --upgrade streamlit\\n\\nVersion 1.41.0 (latest)\\nRelease date: December 10, 2024\\nNotable Changes\\n\\n🔲 st.metric and st.columns have a parameter to show an optional border (#9927, #9928).\\n🎨\\xa0Text and background color in Markdown can use the \"primary\" color from the theme.primaryColor configuration option (#9676).\\n🥶\\xa0You can freeze columns with column configuration to make them always visible when scrolling horizontally (#9535, #7078).\\n3️⃣ The type parameter for buttons accepts a new option, \"tertiary\" (#9923).\\n🚶\\u200d♂️\\xa0Streamlit supports pathlib.Path objects everywhere you can use a string path (#9711, #9783).\\n⏱️\\xa0st.date_input and st.time_input accept ISO formatted strings for initial values (#9753).\\n💬\\xa0st.write_stream accepts async generators, which it converts internally to sync generators (#8724, #8161).\\n🪵 The client.showErrorDetails configuration option has additional values to show or hide more information (#9909).\\n🔎\\xa0When Streamlit shows stack traces in the app for uncaught exceptions, internal code is omitted or reduced for easier debugging (#9913).\\n📈\\xa0st.line_chart shows tooltips for the nearest point on hover (#9674).\\n🌐\\xa0st.html will attempt to convert non-string objects with ._repr_html_() before falling back to str() (#9877).\\n🐍\\xa0Streamlit supports Python 3.13 and no longer supports Python 3.8 (#9635).\\n\\nOther Changes\\n\\n🔣 Material Symbols have been updated with the latest icons (#9813, #9810).\\n👽\\xa0Streamlit supports Watchdog version 6 (#9785). Thanks, RubenVanEldik.\\n🌀\\xa0Bug fix: Streamlit only shows cached function spinners on cache misses and doesn\\'t show spinners for nested cached functions (#9956, #9951).\\n🔈\\xa0Bug fix: Streamlit\\'s audio buffer handles channels better to correctly play audio recordings in Firefox (#9885, #9799).\\n🦊\\xa0Bug fix: URL patterns are matched correctly to allow Community Cloud developer tools to display correctly in Firefox (#9849, #9848).\\n☠️\\xa0Bug fix: Corrected a performance and alignment problem with containers (#9901, #9456, #9560).\\n👻\\xa0Bug fix: st.rerun will raise an error if an invalid scope is passed to it (#9911, #9908).\\n🦋\\xa0Bug fix: Dataframe toolbars show correctly in dialogs (#9897, #9461).\\n🦀\\xa0Bug fix: LinkColumn regex for display_text uses the correct URI decoding (#9895, #9893).\\n🦎\\xa0Bug fix: st.dataframe has correct type hinting when on_selection=\"ignore\" (#9898, #9669).\\n🐌\\xa0Bug fix: Padding is applied consistently for wide and centered layout mode (#9882, #9707).\\n🕸️\\xa0Bug fix: st.graphviz_chart is displayed correctly when use_container_width=True (#9867, #9866).\\n🦗\\xa0Bug fix: The overloaded definitions of st.pills and st.segmented_control use the correct selection-mode default (#9801). Thanks, RubenVanEldik!\\n🦂\\xa0Bug fix: st.text_area (and other widgets) are correctly submitted in a form when using Ctrl+Enter (#9847, #9841).\\n🦟\\xa0Bug Fix: st.write renders DeltaGenerator objects with st.help (#9828, #9827).\\n🦠\\xa0Bug fix: st.text_area correctly matches the value in Session State when used with a key (#9829, #9825).\\n🪰\\xa0Bug fix: st.text_input does not trigger a rerun when a user submits an unchanged value (#9826).\\n🪳\\xa0Bug fix: Improved styling for st.exception to fix overflow and incorrect padding (#9818, #9817, #9816).\\n🕷️\\xa0Bug fix: Large dataframe don\\'t overflow and cover the dataframe toolbar in fullscreen mode (#9803, #9798).\\n🐞\\xa0Bug fix: st.audio_input shows the correct time on recording in time zones with a half-hour offset (#9791, #9631).\\n🐝\\xa0Bug fix: In iOS, st.number_input shows a number pad instead of a keyboard when in focus (#9766, #9763).\\n🐜\\xa0Bug fix: Widget keys containing hyphens are correctly added to HTML classes in the DOM with an\\xa0st-key- prefix (#9793).\\n🪲\\xa0Bug fix: Audio files created by st.audio_input include a timestamp to ensure unique file names (#9768).\\n🐛\\xa0Bug fix: Double slash URL pathnames do not create a 301 redirect (#9754, #9690).\\n\\nOlder versions of Streamlit\\n\\n2024 release notes\\n2023 release notes\\n2022 release notes\\n2021 release notes\\n2020 release notes\\n2019 release notes\\nPrevious: Cheat sheetNext: 2024forumStill have questions?Our forums are full of helpful information and Streamlit experts.HomeContact UsCommunity© 2024 Snowflake Inc.Cookie policyforum Ask AI')]"
      ]
     },
     "execution_count": 13,
     "metadata": {},
     "output_type": "execute_result"
    }
   ],
   "source": [
    "docs"
   ]
  }
 ],
 "metadata": {
  "kernelspec": {
   "display_name": "venv",
   "language": "python",
   "name": "python3"
  },
  "language_info": {
   "codemirror_mode": {
    "name": "ipython",
    "version": 3
   },
   "file_extension": ".py",
   "mimetype": "text/x-python",
   "name": "python",
   "nbconvert_exporter": "python",
   "pygments_lexer": "ipython3",
   "version": "3.12.1"
  }
 },
 "nbformat": 4,
 "nbformat_minor": 2
}
